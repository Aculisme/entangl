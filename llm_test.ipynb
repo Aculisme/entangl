{
 "cells": [
  {
   "cell_type": "code",
   "execution_count": 15,
   "metadata": {
    "ExecuteTime": {
     "end_time": "2024-11-26T16:33:26.215437Z",
     "start_time": "2024-11-26T16:33:24.823579Z"
    }
   },
   "outputs": [],
   "source": [
    "import getpass\n",
    "import os\n",
    "\n",
    "os.environ[\"LANGCHAIN_TRACING_V2\"] = \"true\"\n",
    "os.environ[\"LANGCHAIN_API_KEY\"] = getpass.getpass()"
   ]
  },
  {
   "cell_type": "code",
   "execution_count": 16,
   "metadata": {
    "ExecuteTime": {
     "end_time": "2024-11-26T16:33:31.592243Z",
     "start_time": "2024-11-26T16:33:26.190874Z"
    }
   },
   "outputs": [],
   "source": [
    "os.environ[\"OPENAI_API_KEY\"] = getpass.getpass()\n",
    "\n",
    "from langchain_openai import ChatOpenAI\n",
    "\n",
    "model = ChatOpenAI(model=\"gpt-4o-mini\")"
   ]
  },
  {
   "cell_type": "code",
   "execution_count": 19,
   "metadata": {
    "ExecuteTime": {
     "end_time": "2024-11-26T16:42:56.351636Z",
     "start_time": "2024-11-26T16:42:55.033356Z"
    }
   },
   "outputs": [
    {
     "name": "stdout",
     "output_type": "stream",
     "text": [
      "content='This component is a pocket sliding door with dimensions of 2.027 meters in height and 0.945 meters in width, located on Level 2 of the architectural project.' additional_kwargs={'refusal': None} response_metadata={'token_usage': {'completion_tokens': 36, 'prompt_tokens': 183, 'total_tokens': 219, 'completion_tokens_details': {'accepted_prediction_tokens': 0, 'audio_tokens': 0, 'reasoning_tokens': 0, 'rejected_prediction_tokens': 0}, 'prompt_tokens_details': {'audio_tokens': 0, 'cached_tokens': 0}}, 'model_name': 'gpt-4o-mini-2024-07-18', 'system_fingerprint': 'fp_3de1288069', 'finish_reason': 'stop', 'logprobs': None} id='run-4afc79e2-64b7-4db9-a65e-f3b318b46757-0' usage_metadata={'input_tokens': 183, 'output_tokens': 36, 'total_tokens': 219, 'input_token_details': {'audio': 0, 'cache_read': 0}, 'output_token_details': {'audio': 0, 'reasoning': 0}}\n"
     ]
    }
   ],
   "source": [
    "from langchain_core.prompts import ChatPromptTemplate\n",
    "\n",
    "system_template = \"Given the following JSON object representing a {category} component in a Revit architectural project, give a short 1-sentence description of the component\"\n",
    "\n",
    "prompt_template = ChatPromptTemplate.from_messages(\n",
    "    [(\"system\", system_template), (\"user\", \"{json_object}\")]\n",
    ")\n",
    "\n",
    "chain = prompt_template | model\n",
    "\n",
    "response = chain.invoke({\"category\": \"Doors\",\n",
    "                         \"json_object\": \"{'IfcGUID': '2wm6PO6TX9IxXwLP21HyWr', 'Host Id': 'Wall', 'Family and Type': 'Family Type: 2.027 x 0.945, Family: Pocket_Slider_Door_5851', 'Materials': ['Door - Frame', 'Door - Panel'], 'Head Height': '2027.0', 'Sill Height': '0.0', 'Area': '3.5520497174451937', 'Volume': '0.0913121749999984', 'Category': 'Doors', 'Level': 'Level(Name=Level 2, Elevation=3000)', 'Comments': 'None'}\"})\n",
    "\n",
    "print(response)\n"
   ]
  }
 ],
 "metadata": {
  "kernelspec": {
   "display_name": "Python 3",
   "language": "python",
   "name": "python3"
  },
  "language_info": {
   "codemirror_mode": {
    "name": "ipython",
    "version": 3
   },
   "file_extension": ".py",
   "mimetype": "text/x-python",
   "name": "python",
   "nbconvert_exporter": "python",
   "pygments_lexer": "ipython3",
   "version": "3.13.0"
  }
 },
 "nbformat": 4,
 "nbformat_minor": 2
}
