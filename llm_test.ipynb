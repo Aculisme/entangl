{
 "cells": [
  {
   "cell_type": "code",
   "execution_count": 15,
   "metadata": {
    "ExecuteTime": {
     "end_time": "2024-11-26T16:33:26.215437Z",
     "start_time": "2024-11-26T16:33:24.823579Z"
    }
   },
   "outputs": [],
   "source": [
    "import getpass\n",
    "import os\n",
    "\n",
    "os.environ[\"LANGCHAIN_TRACING_V2\"] = \"true\"\n",
    "os.environ[\"LANGCHAIN_API_KEY\"] = getpass.getpass()"
   ]
  },
  {
   "cell_type": "code",
   "execution_count": 27,
   "metadata": {
    "ExecuteTime": {
     "end_time": "2024-11-26T18:18:22.662215Z",
     "start_time": "2024-11-26T18:17:59.849272Z"
    }
   },
   "outputs": [],
   "source": [
    "os.environ[\"OPENAI_API_KEY\"] = getpass.getpass()\n",
    "from langchain_core.globals import set_llm_cache\n",
    "# from langchain_openai import OpenAI\n",
    "from langchain_openai import ChatOpenAI\n",
    "\n",
    "model = ChatOpenAI(model=\"gpt-4o-mini\")"
   ]
  },
  {
   "cell_type": "code",
   "execution_count": 41,
   "outputs": [],
   "source": [
    "from langchain_core.caches import InMemoryCache\n",
    "\n",
    "set_llm_cache(InMemoryCache())"
   ],
   "metadata": {
    "collapsed": false,
    "ExecuteTime": {
     "end_time": "2024-11-26T18:24:48.991058Z",
     "start_time": "2024-11-26T18:24:48.987353Z"
    }
   }
  },
  {
   "cell_type": "code",
   "execution_count": 42,
   "metadata": {
    "ExecuteTime": {
     "end_time": "2024-11-26T18:24:50.796068Z",
     "start_time": "2024-11-26T18:24:50.794225Z"
    }
   },
   "outputs": [],
   "source": [
    "from langchain_core.prompts import ChatPromptTemplate\n",
    "\n",
    "# system_template_old = \"Given the following JSON object representing a {category} component in a Revit architectural project, give a short 1-sentence description of the component\"\n",
    "\n",
    "system_template = \"You are writing a very short 1-sentence description of a component from a Revit architectural project. The following JSON object contains information about the component. The description is intended as a summary of the component for technical specifications\"\n",
    "\n",
    "prompt_template = ChatPromptTemplate.from_messages(\n",
    "    [(\"system\", system_template), (\"user\", \"{json_object}\")]\n",
    ")\n",
    "\n",
    "chain = prompt_template | model"
   ]
  },
  {
   "cell_type": "code",
   "execution_count": 51,
   "outputs": [],
   "source": [
    "import json\n",
    "\n",
    "filename = 'arch_rac_example_processed'\n",
    "\n",
    "with open('{}.json'.format(filename), 'r') as file:\n",
    "    data = json.load(file)"
   ],
   "metadata": {
    "collapsed": false,
    "ExecuteTime": {
     "end_time": "2024-11-26T18:38:53.615813Z",
     "start_time": "2024-11-26T18:38:53.598094Z"
    }
   }
  },
  {
   "cell_type": "code",
   "execution_count": 52,
   "outputs": [],
   "source": [
    "from pprint import pprint as pp"
   ],
   "metadata": {
    "collapsed": false,
    "ExecuteTime": {
     "end_time": "2024-11-26T18:38:55.635613Z",
     "start_time": "2024-11-26T18:38:55.630162Z"
    }
   }
  },
  {
   "cell_type": "code",
   "execution_count": 62,
   "outputs": [
    {
     "name": "stdout",
     "output_type": "stream",
     "text": [
      "{'IfcGUID': '38BWtPCUX0VgAKmmGnoLQm', 'Family and Type': 'Insitu Concrete 225mm', 'Materials': ['Concrete, Cast In Situ', 'Damp-proofing', 'Concrete, Sand/Cement Screed'], 'Elevation at Bottom': '2775.0000000000005', 'Elevation at Top': '3000.0', 'Thickness': '225.00000000000003', 'Area': '26.169000000003045', 'Volume': '5.888025000000679', 'Room Bounding': '1', 'Perimeter': '28580.00000000255', 'Category': 'Floors', 'Level': 'Level(Name=Level 2, Elevation=3000)', 'Comments': ''}\n",
      "{'IfcGUID': '3t5Ey6FwDBbRFdkxqUP7z5', 'Family and Type': '3000 x 3000mm Grid', 'Materials': ['Default', 'Finishes - Interior - Plasterboard'], 'Area': '83.51144000000616', 'Volume': '4.175572000000308', 'Room Bounding': '1', 'Perimeter': '39156.000000000924', 'Height Offset From Level': '2700.0', 'Category': 'Ceilings', 'Level': 'Level(Name=Level 1, Elevation=0)', 'Comments': 'None'}\n",
      "{'IfcGUID': '1LMg1ZkATBJwu7hODVWkcE', 'Family and Type': '3000 x 3000mm Grid', 'Materials': ['Default', 'Finishes - Interior - Plasterboard'], 'Area': '70.78800000000138', 'Volume': '3.5394000000000694', 'Room Bounding': '0', 'Perimeter': '35596.0000000005', 'Height Offset From Level': '2700.0', 'Category': 'Ceilings', 'Level': 'Level(Name=Level 1 Living Rm., Elevation=-550)', 'Comments': 'None'}\n",
      "{'IfcGUID': '1N_4TwOEH5194SbNmRTFml', 'Host Id': '-1', 'Type': 'Family Type: Seating - Artemis - Lounge chair, Family: Seating - Artemis - Lounge chair', 'Family': 'Family Type: Seating - Artemis - Lounge chair, Family: Seating - Artemis - Lounge chair', 'Materials': ['Chair wood', 'Chair Fabric'], 'Category': 'Furniture', 'Area': '1.4050983015489262', 'Volume': '0.020985123692510804', 'Level': 'Level(Name=Level 1 Living Rm., Elevation=-550)', 'Elevation from Level': '0.0', 'Comments': 'None'}\n",
      "{'IfcGUID': '20nhVaBTTAJguMI9o6oDPn', 'Host Id': '-1', 'Type': 'Family Type: Seating - Artemis - Lounge chair, Family: Seating - Artemis - Lounge chair', 'Family': 'Family Type: Seating - Artemis - Lounge chair, Family: Seating - Artemis - Lounge chair', 'Materials': ['Chair wood', 'Chair Fabric'], 'Category': 'Furniture', 'Area': '1.4050983015489262', 'Volume': '0.020985123692510804', 'Level': 'Level(Name=Level 1 Living Rm., Elevation=-550)', 'Elevation from Level': '0.0', 'Comments': 'None'}\n",
      "{'IfcGUID': '1hb7CWkynF4vPDja0y_oQN', 'Host Id': '-1', 'Type': 'Family Type: Model with Island, Family: Seat - Single with Island', 'Family': 'Family Type: Model with Island, Family: Seat - Single with Island', 'Materials': ['Herman Miller - Seat Fabric 8T07 Crossing Pumpkin', 'Herman Miller - Veneer Z5 Maple'], 'Category': 'Furniture', 'Area': '14.083493318943859', 'Volume': '1.8755491184157478', 'Level': 'Level(Name=Level 1 Living Rm., Elevation=-550)', 'Elevation from Level': '0.0', 'Comments': 'None'}\n",
      "{'IfcGUID': '1hb7CWkynF4vPDja0y_oEs', 'Host Id': '-1', 'Type': 'Family Type: W600XD600, Family: Sofa - Ottoman', 'Family': 'Family Type: W600XD600, Family: Sofa - Ottoman', 'Materials': ['Herman Miller - Seat Fabric 8T07 Crossing Pumpkin'], 'Category': 'Furniture', 'Area': '0.7493466796271538', 'Volume': '0.11982440689239808', 'Level': 'Level(Name=Level 1 Living Rm., Elevation=-550)', 'Elevation from Level': '0.0', 'Comments': 'None'}\n",
      "{'IfcGUID': '2PbrheIID1GfgGRPO3yaMM', 'Host Id': '-1', 'Type': 'Family Type: W600XD600 2, Family: Sofa - Ottoman', 'Family': 'Family Type: W600XD600 2, Family: Sofa - Ottoman', 'Materials': ['Herman Miller - Veneer Z5 Maple'], 'Category': 'Furniture', 'Area': '0.7493466796271538', 'Volume': '0.11982440689239808', 'Level': 'Level(Name=Level 1 Living Rm., Elevation=-550)', 'Elevation from Level': '0.0', 'Comments': 'None'}\n",
      "{'IfcGUID': '2PbrheIID1GfgGRPO3yxeK', 'Host Id': '-1', 'Type': 'Family Type: W600XD600, Family: Sofa - Ottoman', 'Family': 'Family Type: W600XD600, Family: Sofa - Ottoman', 'Materials': ['Herman Miller - Seat Fabric 8T07 Crossing Pumpkin'], 'Category': 'Furniture', 'Area': '0.7493466796271538', 'Volume': '0.11982440689239808', 'Level': 'Level(Name=Level 1 Living Rm., Elevation=-550)', 'Elevation from Level': '0.0', 'Comments': 'None'}\n",
      "{'IfcGUID': '2PbrheIID1GfgGRPO3yxeS', 'Host Id': '-1', 'Type': 'Family Type: W600XD600, Family: Sofa - Ottoman', 'Family': 'Family Type: W600XD600, Family: Sofa - Ottoman', 'Materials': ['Herman Miller - Seat Fabric 8T07 Crossing Pumpkin'], 'Category': 'Furniture', 'Area': '0.7493466796271538', 'Volume': '0.11982440689239808', 'Level': 'Level(Name=Level 1 Living Rm., Elevation=-550)', 'Elevation from Level': '0.0', 'Comments': 'None'}\n",
      "{'IfcGUID': '2PbrheIID1GfgGRPO3yxga', 'Host Id': '-1', 'Type': 'Family Type: W600XD600, Family: Sofa - Ottoman', 'Family': 'Family Type: W600XD600, Family: Sofa - Ottoman', 'Materials': ['Herman Miller - Seat Fabric 8T07 Crossing Pumpkin'], 'Category': 'Furniture', 'Area': '0.7493466796271538', 'Volume': '0.11982440689239808', 'Level': 'Level(Name=Level 1 Living Rm., Elevation=-550)', 'Elevation from Level': '0.0', 'Comments': 'None'}\n",
      "{'IfcGUID': '2PbrheIID1GfgGRPO3yxjg', 'Host Id': '-1', 'Type': 'Family Type: W600XD600 2, Family: Sofa - Ottoman', 'Family': 'Family Type: W600XD600 2, Family: Sofa - Ottoman', 'Materials': ['Herman Miller - Veneer Z5 Maple'], 'Category': 'Furniture', 'Area': '0.7493466796271538', 'Volume': '0.11982440689239808', 'Level': 'Level(Name=Level 1 Living Rm., Elevation=-550)', 'Elevation from Level': '0.0', 'Comments': 'None'}\n",
      "{'IfcGUID': '2PbrheIID1GfgGRPO3yxiy', 'Host Id': '-1', 'Type': 'Family Type: W600XD600, Family: Sofa - Ottoman', 'Family': 'Family Type: W600XD600, Family: Sofa - Ottoman', 'Materials': ['Herman Miller - Seat Fabric 8T07 Crossing Pumpkin'], 'Category': 'Furniture', 'Area': '0.7493466796271538', 'Volume': '0.11982440689239808', 'Level': 'Level(Name=Level 1 Living Rm., Elevation=-550)', 'Elevation from Level': '0.0', 'Comments': 'None'}\n",
      "{'IfcGUID': '2PbrheIID1GfgGRPO3yx$6', 'Host Id': '-1', 'Type': 'Family Type: W1500XD400XH530, Family: Cabinet 1', 'Family': 'Family Type: W1500XD400XH530, Family: Cabinet 1', 'Materials': ['Glass - Transparent', 'Wood - Medium Brown', 'Metal - Stainless'], 'Category': 'Furniture', 'Area': '3.71546102528754', 'Volume': '0.1575546573568136', 'Level': 'Level(Name=Level 1 Living Rm., Elevation=-550)', 'Elevation from Level': '0.0', 'Comments': 'None'}\n",
      "{'IfcGUID': '1mNYMX4dvDThNrJdPk$ta$', 'Host Id': '-1', 'Type': 'Family Type: 0810mm, Family: M_TV - Flat Screen', 'Family': 'Family Type: 0810mm, Family: M_TV - Flat Screen', 'Materials': ['TV - Glass', 'TV - Black', 'TV - Screen'], 'Category': 'Furniture', 'Area': '1.1039608812708803', 'Volume': '0.04868595149929055', 'Level': 'Level(Name=Level 1 Living Rm., Elevation=-550)', 'Elevation from Level': '530.0', 'Comments': 'None'}\n",
      "{'IfcGUID': '1mNYMX4dvDThNrJdPk$tmD', 'Host Id': '-1', 'Type': 'Family Type: Side Table 2 (2), Family: Side Table 2 (2)', 'Family': 'Family Type: Side Table 2 (2), Family: Side Table 2 (2)', 'Materials': ['Herman Miller - Finish 47 Trivalent Chrome', 'Herman Miller - Veneer Z5 Maple', 'Herman Miller - Finish PA Polished Aluminum'], 'Category': 'Furniture', 'Area': '0.5625982941484555', 'Volume': '0.01487988125759135', 'Level': 'Level(Name=Level 1 Living Rm., Elevation=-550)', 'Elevation from Level': '0.0', 'Comments': 'None'}\n",
      "{'IfcGUID': '1mNYMX4dvDThNrJdPk$sEy', 'Host Id': '-1', 'Type': 'Family Type: Side Table 2 (2), Family: Side Table 2 (2)', 'Family': 'Family Type: Side Table 2 (2), Family: Side Table 2 (2)', 'Materials': ['Herman Miller - Finish 47 Trivalent Chrome', 'Herman Miller - Veneer Z5 Maple', 'Herman Miller - Finish PA Polished Aluminum'], 'Category': 'Furniture', 'Area': '0.5625982941484555', 'Volume': '0.01487988125759135', 'Level': 'Level(Name=Level 1 Living Rm., Elevation=-550)', 'Elevation from Level': '0.0', 'Comments': 'None'}\n",
      "{'IfcGUID': '1mNYMX4dvDThNrJdPk$s13', 'Host Id': '-1', 'Type': 'Family Type: Bar Chair, Family: Bar Chair', 'Family': 'Family Type: Bar Chair, Family: Bar Chair', 'Materials': ['Herman Miller - Finish 47 Trivalent Chrome', 'Leather - Tan'], 'Category': 'Furniture', 'Area': '0.18140184997632078', 'Volume': '0.0027388366152507073', 'Level': 'Level(Name=Level 1, Elevation=0)', 'Elevation from Level': '0.0', 'Comments': 'None'}\n",
      "{'IfcGUID': '1mNYMX4dvDThNrJdPk$sTF', 'Host Id': '-1', 'Type': 'Family Type: Bar Chair, Family: Bar Chair', 'Family': 'Family Type: Bar Chair, Family: Bar Chair', 'Materials': ['Herman Miller - Finish 47 Trivalent Chrome', 'Leather - Tan'], 'Category': 'Furniture', 'Area': '0.18140184997632078', 'Volume': '0.0027388366152507073', 'Level': 'Level(Name=Level 1, Elevation=0)', 'Elevation from Level': '0.0', 'Comments': 'None'}\n",
      "{'IfcGUID': '1mNYMX4dvDThNrJdPk$sQ8', 'Host Id': '-1', 'Type': 'Family Type: Bar Chair, Family: Bar Chair', 'Family': 'Family Type: Bar Chair, Family: Bar Chair', 'Materials': ['Herman Miller - Finish 47 Trivalent Chrome', 'Leather - Tan'], 'Category': 'Furniture', 'Area': '0.18140184997632078', 'Volume': '0.0027388366152507073', 'Level': 'Level(Name=Level 1, Elevation=0)', 'Elevation from Level': '0.0', 'Comments': 'None'}\n",
      "{'IfcGUID': '1mNYMX4dvDThNrJdPk$sQD', 'Host Id': '-1', 'Type': 'Family Type: Bar Chair, Family: Bar Chair', 'Family': 'Family Type: Bar Chair, Family: Bar Chair', 'Materials': ['Herman Miller - Finish 47 Trivalent Chrome', 'Leather - Tan'], 'Category': 'Furniture', 'Area': '0.18140184997632078', 'Volume': '0.0027388366152507073', 'Level': 'Level(Name=Level 1, Elevation=0)', 'Elevation from Level': '0.0', 'Comments': 'None'}\n",
      "{'IfcGUID': '1mNYMX4dvDThNrJdPk$sOO', 'Host Id': '-1', 'Type': 'Family Type: Bar Chair, Family: Bar Chair', 'Family': 'Family Type: Bar Chair, Family: Bar Chair', 'Materials': ['Herman Miller - Finish 47 Trivalent Chrome', 'Leather - Tan'], 'Category': 'Furniture', 'Area': '0.18140184997632078', 'Volume': '0.0027388366152507073', 'Level': 'Level(Name=Level 1, Elevation=0)', 'Elevation from Level': '0.0', 'Comments': 'None'}\n",
      "{'IfcGUID': '1mNYMX4dvDThNrJdPk$sP3', 'Host Id': '-1', 'Type': 'Family Type: Bar Chair, Family: Bar Chair', 'Family': 'Family Type: Bar Chair, Family: Bar Chair', 'Materials': ['Herman Miller - Finish 47 Trivalent Chrome', 'Leather - Tan'], 'Category': 'Furniture', 'Area': '0.18140184997632078', 'Volume': '0.0027388366152507073', 'Level': 'Level(Name=Level 1, Elevation=0)', 'Elevation from Level': '0.0', 'Comments': 'None'}\n",
      "{'IfcGUID': '1mNYMX4dvDThNrJdPk$si3', 'Host Id': '-1', 'Type': 'Family Type: 1800 x 900 mm, Family: Table-Dining 01 (M)', 'Family': 'Family Type: 1800 x 900 mm, Family: Table-Dining 01 (M)', 'Materials': ['Herman Miller - Veneer OU Walnut', 'Herman Miller - Veneer UX Walnut on Cherry'], 'Category': 'Furniture', 'Area': '2.831581254635516', 'Volume': '0.07218839999999928', 'Level': 'Level(Name=Level 1, Elevation=0)', 'Elevation from Level': '0.0', 'Comments': 'None'}\n",
      "{'IfcGUID': '1mNYMX4dvDThNrJdPk$sho', 'Host Id': '-1', 'Type': 'Family Type: 1800 x 900 mm, Family: Table-Dining 01 (M)', 'Family': 'Family Type: 1800 x 900 mm, Family: Table-Dining 01 (M)', 'Materials': ['Herman Miller - Veneer OU Walnut', 'Herman Miller - Veneer UX Walnut on Cherry'], 'Category': 'Furniture', 'Area': '2.831581254635516', 'Volume': '0.07218839999999928', 'Level': 'Level(Name=Level 1, Elevation=0)', 'Elevation from Level': '0.0', 'Comments': 'None'}\n",
      "{'IfcGUID': '1mNYMX4dvDThNrJdPk$s$E', 'Host Id': '-1', 'Type': 'Family Type: Dining Chair (3), Family: Dining Chair (3)', 'Family': 'Family Type: Dining Chair (3), Family: Dining Chair (3)', 'Materials': ['Herman Miller - Finish 47 Trivalent Chrome', 'Herman Miller - Veneer Z5 Maple'], 'Category': 'Furniture', 'Area': '0.26628626770377684', 'Volume': '0.0029861052564251166', 'Level': 'Level(Name=Level 1, Elevation=0)', 'Elevation from Level': '0.0', 'Comments': 'None'}\n",
      "{'IfcGUID': '1mNYMX4dvDThNrJdPk$sud', 'Host Id': '-1', 'Type': 'Family Type: Dining Chair (3), Family: Dining Chair (3)', 'Family': 'Family Type: Dining Chair (3), Family: Dining Chair (3)', 'Materials': ['Herman Miller - Finish 47 Trivalent Chrome', 'Herman Miller - Veneer Z5 Maple'], 'Category': 'Furniture', 'Area': '0.26628626770377684', 'Volume': '0.0029861052564251166', 'Level': 'Level(Name=Level 1, Elevation=0)', 'Elevation from Level': '0.0', 'Comments': 'None'}\n",
      "{'IfcGUID': '1mNYMX4dvDThNrJdPk$su$', 'Host Id': '-1', 'Type': 'Family Type: Dining Chair (3), Family: Dining Chair (3)', 'Family': 'Family Type: Dining Chair (3), Family: Dining Chair (3)', 'Materials': ['Herman Miller - Finish 47 Trivalent Chrome', 'Herman Miller - Veneer Z5 Maple'], 'Category': 'Furniture', 'Area': '0.26628626770377684', 'Volume': '0.002986105256425116', 'Level': 'Level(Name=Level 1, Elevation=0)', 'Elevation from Level': '0.0', 'Comments': 'None'}\n",
      "{'IfcGUID': '1mNYMX4dvDThNrJdPk$su_', 'Host Id': '-1', 'Type': 'Family Type: Dining Chair (3), Family: Dining Chair (3)', 'Family': 'Family Type: Dining Chair (3), Family: Dining Chair (3)', 'Materials': ['Herman Miller - Finish 47 Trivalent Chrome', 'Herman Miller - Veneer Z5 Maple'], 'Category': 'Furniture', 'Area': '0.26628626770377684', 'Volume': '0.002986105256425116', 'Level': 'Level(Name=Level 1, Elevation=0)', 'Elevation from Level': '0.0', 'Comments': 'None'}\n",
      "{'IfcGUID': '1mNYMX4dvDThNrJdPk$suM', 'Host Id': '-1', 'Type': 'Family Type: Dining Chair (3), Family: Dining Chair (3)', 'Family': 'Family Type: Dining Chair (3), Family: Dining Chair (3)', 'Materials': ['Herman Miller - Finish 47 Trivalent Chrome', 'Herman Miller - Veneer Z5 Maple'], 'Category': 'Furniture', 'Area': '0.26628626770377684', 'Volume': '0.002986105256425116', 'Level': 'Level(Name=Level 1, Elevation=0)', 'Elevation from Level': '0.0', 'Comments': 'None'}\n",
      "{'IfcGUID': '1mNYMX4dvDThNrJdPk$suL', 'Host Id': '-1', 'Type': 'Family Type: Dining Chair (3), Family: Dining Chair (3)', 'Family': 'Family Type: Dining Chair (3), Family: Dining Chair (3)', 'Materials': ['Herman Miller - Finish 47 Trivalent Chrome', 'Herman Miller - Veneer Z5 Maple'], 'Category': 'Furniture', 'Area': '0.26628626770377684', 'Volume': '0.002986105256425116', 'Level': 'Level(Name=Level 1, Elevation=0)', 'Elevation from Level': '0.0', 'Comments': 'None'}\n",
      "{'IfcGUID': '1mNYMX4dvDThNrJdPk$suK', 'Host Id': '-1', 'Type': 'Family Type: Dining Chair (3), Family: Dining Chair (3)', 'Family': 'Family Type: Dining Chair (3), Family: Dining Chair (3)', 'Materials': ['Herman Miller - Finish 47 Trivalent Chrome', 'Herman Miller - Veneer Z5 Maple'], 'Category': 'Furniture', 'Area': '0.26628626770377684', 'Volume': '0.0029861052564251166', 'Level': 'Level(Name=Level 1, Elevation=0)', 'Elevation from Level': '0.0', 'Comments': 'None'}\n",
      "{'IfcGUID': '1mNYMX4dvDThNrJdPk$suR', 'Host Id': '-1', 'Type': 'Family Type: Dining Chair (3), Family: Dining Chair (3)', 'Family': 'Family Type: Dining Chair (3), Family: Dining Chair (3)', 'Materials': ['Herman Miller - Finish 47 Trivalent Chrome', 'Herman Miller - Veneer Z5 Maple'], 'Category': 'Furniture', 'Area': '0.26628626770377684', 'Volume': '0.0029861052564251166', 'Level': 'Level(Name=Level 1, Elevation=0)', 'Elevation from Level': '0.0', 'Comments': 'None'}\n",
      "{'IfcGUID': '2cgXCjpDT0ZxBvxMSr3pfm', 'Category': 'Roofs', 'Family and Type': 'SG Metal Panels roof', 'Area': '173.14197087000505', 'Volume': '34.974081692707315', 'Thickness': '202.00000000000003', 'Reference Level': 'Level(Name=Roof Line, Elevation=6000)', 'Room Bounding': '1', 'Materials': ['Gypsum Wall Board', 'Softwood, Lumber', 'Wood - Furring', 'Roofing - Metal Standing Seam'], 'Slope': '0.0', 'Phase Created': 'Phase'}\n",
      "{'IfcGUID': '0LKJKCHUL1kBtnlFfddz6a', 'Category': 'Roofs', 'Family and Type': 'Warm Roof - Timber', 'Area': '70.78800000000155', 'Volume': '23.926344000000547', 'Thickness': '338.00000000000006', 'Room Bounding': '1', 'Materials': ['Structure - Timber Joist/Rafter Layer', 'Insulation / Thermal Barriers - Rigid insulation', 'Vapour / Moisture Barriers - Vapour Retarder', 'Wood - Sheathing - Chipboard', 'Wood - Firring', 'Roofing - Asphalt', 'Roofing - Felt'], 'Slope': '0.0', 'Phase Created': 'Phase'}\n",
      "{'IfcGUID': '07dHKEjXj6kwcHAxpyAkMS', 'Actual Tread Depth': '300.0', 'Actual Number of Risers': '3', 'Actual Riser Height': '180.55555555556018', 'Base Level': 'Level(Name=Level 1 Living Rm., Elevation=-550)', 'Top Level': 'Level(Name=Level 1, Elevation=0)', 'Materials': ['Concrete, Cast In Situ'], 'Desired Stair Height': '550.0', 'Category': 'Stairs', 'Comments': 'None'}\n",
      "{'IfcGUID': '2ZlFFrvcbDavSm_g3LjLIe', 'Actual Tread Depth': '249.99999999999997', 'Actual Number of Risers': '16', 'Actual Riser Height': '187.5', 'Base Level': 'Level(Name=Level 1, Elevation=0)', 'Top Level': 'Level(Name=Level 2, Elevation=3000)', 'Materials': ['Wood_Walnut black'], 'Desired Stair Height': '3000.0', 'Category': 'Stairs', 'Comments': 'None'}\n",
      "{'IfcGUID': '1N_4TwOEH5194SbNmRTDNX', 'Actual Tread Depth': '300.0', 'Actual Number of Risers': '3', 'Actual Riser Height': '166.66666666668817', 'Base Level': 'Level(Name=Ceiling, Elevation=2700.00000000008)', 'Top Level': 'Level(Name=Level 2, Elevation=3000)', 'Materials': ['Concrete, Cast In Situ'], 'Desired Stair Height': '499.9999999999172', 'Category': 'Stairs', 'Comments': 'None'}\n"
     ]
    }
   ],
   "source": [
    "for cat, elems in data.items():\n",
    "\n",
    "    for elem in elems:\n",
    "        \n",
    "        if \"Description Human-Readable\" in elem:\n",
    "            # print()\n",
    "            continue\n",
    "        print(elem)\n",
    "        response = chain.invoke({\"category\": cat,\n",
    "                                 \"json_object\": elem})\n",
    "        elem[\"Description Human-Readable\"] = response.content\n",
    "        # break\n",
    "    # break\n",
    "# print(data[\"Doors\"][0:4])\n",
    "\n",
    "# pp(data)\n",
    "\n",
    "with open('{}_with_descriptions.json'.format(filename), 'w+') as file2:\n",
    "        json.dump(data, file2)\n",
    "\n",
    "\n",
    "\n"
   ],
   "metadata": {
    "collapsed": false,
    "ExecuteTime": {
     "end_time": "2024-11-26T19:07:43.076852Z",
     "start_time": "2024-11-26T19:03:56.733259Z"
    }
   }
  }
 ],
 "metadata": {
  "kernelspec": {
   "display_name": "Python 3",
   "language": "python",
   "name": "python3"
  },
  "language_info": {
   "codemirror_mode": {
    "name": "ipython",
    "version": 3
   },
   "file_extension": ".py",
   "mimetype": "text/x-python",
   "name": "python",
   "nbconvert_exporter": "python",
   "pygments_lexer": "ipython3",
   "version": "3.13.0"
  }
 },
 "nbformat": 4,
 "nbformat_minor": 2
}
