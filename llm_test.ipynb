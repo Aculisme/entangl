{
 "cells": [
  {
   "cell_type": "code",
   "execution_count": 15,
   "metadata": {
    "ExecuteTime": {
     "end_time": "2024-11-26T16:33:26.215437Z",
     "start_time": "2024-11-26T16:33:24.823579Z"
    }
   },
   "outputs": [],
   "source": [
    "import getpass\n",
    "import os\n",
    "\n",
    "os.environ[\"LANGCHAIN_TRACING_V2\"] = \"true\"\n",
    "os.environ[\"LANGCHAIN_API_KEY\"] = getpass.getpass()"
   ]
  },
  {
   "cell_type": "code",
   "execution_count": 27,
   "metadata": {
    "ExecuteTime": {
     "end_time": "2024-11-26T18:18:22.662215Z",
     "start_time": "2024-11-26T18:17:59.849272Z"
    }
   },
   "outputs": [],
   "source": [
    "os.environ[\"OPENAI_API_KEY\"] = getpass.getpass()\n",
    "from langchain_core.globals import set_llm_cache\n",
    "# from langchain_openai import OpenAI\n",
    "from langchain_openai import ChatOpenAI\n",
    "\n",
    "model = ChatOpenAI(model=\"gpt-4o-mini\")"
   ]
  },
  {
   "cell_type": "code",
   "execution_count": 41,
   "outputs": [],
   "source": [
    "from langchain_core.caches import InMemoryCache\n",
    "\n",
    "set_llm_cache(InMemoryCache())"
   ],
   "metadata": {
    "collapsed": false,
    "ExecuteTime": {
     "end_time": "2024-11-26T18:24:48.991058Z",
     "start_time": "2024-11-26T18:24:48.987353Z"
    }
   }
  },
  {
   "cell_type": "code",
   "execution_count": 42,
   "metadata": {
    "ExecuteTime": {
     "end_time": "2024-11-26T18:24:50.796068Z",
     "start_time": "2024-11-26T18:24:50.794225Z"
    }
   },
   "outputs": [],
   "source": [
    "from langchain_core.prompts import ChatPromptTemplate\n",
    "\n",
    "# system_template_old = \"Given the following JSON object representing a {category} component in a Revit architectural project, give a short 1-sentence description of the component\"\n",
    "\n",
    "system_template = \"You are writing a very short 1-sentence description of a component from a Revit architectural project. The following JSON object contains information about the component. The description is intended as a summary of the component for technical specifications\"\n",
    "\n",
    "prompt_template = ChatPromptTemplate.from_messages(\n",
    "    [(\"system\", system_template), (\"user\", \"{json_object}\")]\n",
    ")\n",
    "\n",
    "chain = prompt_template | model"
   ]
  },
  {
   "cell_type": "code",
   "execution_count": 43,
   "outputs": [],
   "source": [
    "import json\n",
    "with open('arch_rac_example_processed.json', 'r') as file:\n",
    "    data = json.load(file)    "
   ],
   "metadata": {
    "collapsed": false,
    "ExecuteTime": {
     "end_time": "2024-11-26T18:24:52.836596Z",
     "start_time": "2024-11-26T18:24:52.824940Z"
    }
   }
  },
  {
   "cell_type": "code",
   "execution_count": 44,
   "outputs": [
    {
     "name": "stdout",
     "output_type": "stream",
     "text": [
      "A single-flush door measuring 800 x 2100 mm, constructed with a door frame and panel, located on Level 1 with a head height of 2100 mm and a sill height of 0 mm.\n",
      "{'IfcGUID': '1PDnLIM013wvkZO9Lb4$s7', 'Host Id': 'Wall', 'Family and Type': 'Family Type: 800 x 2100, Family: Single-Flush', 'Materials': ['Door - Frame', 'Door - Panel'], 'Head Height': '2100.0', 'Sill Height': '0.0', 'Area': '2.9649999999999777', 'Volume': '0.10876799999999932', 'Category': 'Doors', 'Level': 'Level(Name=Level 1, Elevation=0)', 'Comments': 'None', 'Description Human-Readable': 'A single-flush door measuring 800 x 2100 mm, constructed with a door frame and panel, located on Level 1 with a head height of 2100 mm and a sill height of 0 mm.'}\n",
      "An anodized black aluminum entrance door with glass, located on Level 1, covering an area of 3.83 m².\n",
      "{'IfcGUID': '1PDnLIM013wvkZO9Lb4$i6', 'Host Id': 'Wall', 'Family and Type': 'Family Type: Entrance door, Family: Entrance door', 'Materials': ['Glass', 'SH_Aluminum, Anodized Black'], 'Area': '3.8303999999999996', 'Volume': '0.10170816000000032', 'Category': 'Doors', 'Level': 'Level(Name=Level 1, Elevation=0)', 'Comments': 'None', 'Description Human-Readable': 'An anodized black aluminum entrance door with glass, located on Level 1, covering an area of 3.83 m².'}\n",
      "Single-flush door (800 x 2100 mm) with a frame and panel, mounted on a wall at Level 1 with a head height of 2100 mm and sill height of 0 mm.\n",
      "{'IfcGUID': '1$p8tACJ938vr1_lKOJJ9g', 'Host Id': 'Wall', 'Family and Type': 'Family Type: 800 x 2100, Family: Single-Flush', 'Materials': ['Door - Frame', 'Door - Panel'], 'Head Height': '2100.0', 'Sill Height': '0.0', 'Area': '2.9649999999999777', 'Volume': '0.10876799999999932', 'Category': 'Doors', 'Level': 'Level(Name=Level 1, Elevation=0)', 'Comments': 'None', 'Description Human-Readable': 'Single-flush door (800 x 2100 mm) with a frame and panel, mounted on a wall at Level 1 with a head height of 2100 mm and sill height of 0 mm.'}\n",
      "A single-flush door (800 x 2100) with a frame and panel construction, located on Level 2 at an elevation of 3000 mm, featuring a head height of 2100 mm and a sill height of 0 mm.\n",
      "{'IfcGUID': '0lntrd6l1AGwfcnKJK5qoH', 'Host Id': 'Wall', 'Family and Type': 'Family Type: 800 x 2100, Family: Single-Flush', 'Materials': ['Door - Frame', 'Door - Panel'], 'Head Height': '2100.0', 'Sill Height': '0.0', 'Area': '2.9649999999999777', 'Volume': '0.10876799999999931', 'Category': 'Doors', 'Level': 'Level(Name=Level 2, Elevation=3000)', 'Comments': 'None', 'Description Human-Readable': 'A single-flush door (800 x 2100) with a frame and panel construction, located on Level 2 at an elevation of 3000 mm, featuring a head height of 2100 mm and a sill height of 0 mm.'}\n"
     ]
    }
   ],
   "source": [
    "for door in data[\"Doors\"][0:4]:\n",
    "\n",
    "    response = chain.invoke({\"category\": door[\"Category\"],\n",
    "                             \"json_object\": door})\n",
    "    print(response.content)\n",
    "    door[\"Description Human-Readable\"] = response.content \n",
    "    print(door)\n",
    "    \n",
    "    \n",
    "\n"
   ],
   "metadata": {
    "collapsed": false,
    "ExecuteTime": {
     "end_time": "2024-11-26T18:25:08.352791Z",
     "start_time": "2024-11-26T18:25:03.446900Z"
    }
   }
  }
 ],
 "metadata": {
  "kernelspec": {
   "display_name": "Python 3",
   "language": "python",
   "name": "python3"
  },
  "language_info": {
   "codemirror_mode": {
    "name": "ipython",
    "version": 3
   },
   "file_extension": ".py",
   "mimetype": "text/x-python",
   "name": "python",
   "nbconvert_exporter": "python",
   "pygments_lexer": "ipython3",
   "version": "3.13.0"
  }
 },
 "nbformat": 4,
 "nbformat_minor": 2
}
