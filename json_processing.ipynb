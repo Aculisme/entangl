{
 "cells": [
  {
   "cell_type": "code",
   "execution_count": 6,
   "id": "initial_id",
   "metadata": {
    "collapsed": true,
    "ExecuteTime": {
     "end_time": "2024-11-25T23:47:19.163237Z",
     "start_time": "2024-11-25T23:47:19.144923Z"
    }
   },
   "outputs": [
    {
     "name": "stdout",
     "output_type": "stream",
     "text": [
      "[{'Area': '465.6187141660033',\n",
      "  'Base Constraint': 'Level(Name=L1 - Block 35, Elevation=-5.91666666666666)',\n",
      "  'Base Extension Distance': '0.0',\n",
      "  'Base Offset': '0.0',\n",
      "  'Base is Attached': '0',\n",
      "  'Category': 'Walls',\n",
      "  'Comments': 'None',\n",
      "  'Cross-Section': '1',\n",
      "  'Design Option': 'Main Model',\n",
      "  'Export to IFC': '0',\n",
      "  'Export to IFC As': 'None',\n",
      "  'Family': 'WallType',\n",
      "  'Family Name': 'None',\n",
      "  'Family and Type': 'WallType',\n",
      "  'IFC Predefined Type': 'None',\n",
      "  'IfcGUID': '1G_I00WlX2MBQekqB04dFi',\n",
      "  'Image': 'None',\n",
      "  'Length': '18.652476024748058',\n",
      "  'Location Line': '2',\n",
      "  'Mark': 'None',\n",
      "  'Phase Created': 'Phase',\n",
      "  'Phase Demolished': 'None',\n",
      "  'Related to Mass': '0',\n",
      "  'Room Bounding': '1',\n",
      "  'Structural': '0',\n",
      "  'Structural Usage': '0',\n",
      "  'Top Constraint': 'Level(Name=L3, Elevation=18.8333333333331)',\n",
      "  'Top Extension Distance': '0.0',\n",
      "  'Top Offset': '-0.08333333333333333',\n",
      "  'Top is Attached': '0',\n",
      "  'Type': 'WallType',\n",
      "  'Type Id': 'WallType',\n",
      "  'Type Name': 'None',\n",
      "  'Unconnected Height': '24.666666666666433',\n",
      "  'Volume': '525.7591567984741'},\n",
      " {'Area': '528.3749999999956',\n",
      "  'Base Constraint': 'Level(Name=L1 - Block 35, Elevation=-5.91666666666666)',\n",
      "  'Base Extension Distance': '0.0',\n",
      "  'Base Offset': '0.0',\n",
      "  'Base is Attached': '0',\n",
      "  'Category': 'Walls',\n",
      "  'Comments': 'None',\n",
      "  'Cross-Section': '1',\n",
      "  'Design Option': 'Main Model',\n",
      "  'Export to IFC': '0',\n",
      "  'Export to IFC As': 'None',\n",
      "  'Family': 'WallType',\n",
      "  'Family Name': 'None',\n",
      "  'Family and Type': 'WallType',\n",
      "  'IFC Predefined Type': 'None',\n",
      "  'IfcGUID': '1G_I00WlX2MBQekqB04dCi',\n",
      "  'Image': 'None',\n",
      "  'Length': '10.874999999999957',\n",
      "  'Location Line': '2',\n",
      "  'Mark': 'None',\n",
      "  'Phase Created': 'Phase',\n",
      "  'Phase Demolished': 'None',\n",
      "  'Related to Mass': '0',\n",
      "  'Room Bounding': '1',\n",
      "  'Structural': '0',\n",
      "  'Structural Usage': '0',\n",
      "  'Top Constraint': 'Level(Name=Parapet 2, Elevation=70.8333333333331)',\n",
      "  'Top Extension Distance': '0.0',\n",
      "  'Top Offset': '0.0',\n",
      "  'Top is Attached': '0',\n",
      "  'Type': 'WallType',\n",
      "  'Type Id': 'WallType',\n",
      "  'Type Name': 'None',\n",
      "  'Unconnected Height': '76.74999999999977',\n",
      "  'Volume': '528.3749999999955'}]\n"
     ]
    }
   ],
   "source": [
    "import json\n",
    "from pprint import pprint as pp\n",
    "\n",
    "with open('all.json', 'r') as file:\n",
    "    data = json.load(file)\n",
    "    \n",
    "    pp(data[0][0])\n",
    "    "
   ]
  }
 ],
 "metadata": {
  "kernelspec": {
   "display_name": "Python 3",
   "language": "python",
   "name": "python3"
  },
  "language_info": {
   "codemirror_mode": {
    "name": "ipython",
    "version": 2
   },
   "file_extension": ".py",
   "mimetype": "text/x-python",
   "name": "python",
   "nbconvert_exporter": "python",
   "pygments_lexer": "ipython2",
   "version": "2.7.6"
  }
 },
 "nbformat": 4,
 "nbformat_minor": 5
}
