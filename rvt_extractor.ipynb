{
 "cells": [
  {
   "cell_type": "code",
   "execution_count": 10,
   "metadata": {},
   "outputs": [
    {
     "name": "stdout",
     "output_type": "stream",
     "text": [
      "2025\n"
     ]
    }
   ],
   "source": [
    "from revit_extract import RevitExtractor\n",
    "# rvt_path = r\"C:\\Users\\lucam\\Desktop\\entangl\\Snowdon Towers Sample Structural.rvt\"\n",
    "rvt_path = r\"C:\\Program Files\\Autodesk\\Revit 2025\\RevitExtractor\\Snowdon Towers Sample Structural.rvt\"\n",
    "# rvt_path = r\"C:\\Users\\lucam\\Downloads\\rmebasicsampleproject.rvt\"\n",
    "version = RevitExtractor.get_version(rvt_path)\n",
    "print(version)"
   ]
  },
  {
   "cell_type": "code",
   "execution_count": 7,
   "metadata": {},
   "outputs": [
    {
     "name": "stdout",
     "output_type": "stream",
     "text": [
      "['__class__', '__delattr__', '__dict__', '__dir__', '__doc__', '__eq__', '__format__', '__ge__', '__getattribute__', '__getstate__', '__gt__', '__hash__', '__init__', '__init_subclass__', '__le__', '__lt__', '__module__', '__ne__', '__new__', '__reduce__', '__reduce_ex__', '__repr__', '__setattr__', '__sizeof__', '__str__', '__subclasshook__', '__weakref__', 'extract_svf', 'get_version', 'process_file', 'read_prob_data', 'version']\n"
     ]
    }
   ],
   "source": [
    "print(dir(RevitExtractor))"
   ]
  },
  {
   "cell_type": "code",
   "execution_count": 8,
   "metadata": {},
   "outputs": [
    {
     "name": "stdout",
     "output_type": "stream",
     "text": [
      "2025\n"
     ]
    }
   ],
   "source": [
    "print(RevitExtractor.version)"
   ]
  },
  {
   "cell_type": "code",
   "execution_count": 12,
   "metadata": {},
   "outputs": [
    {
     "name": "stdout",
     "output_type": "stream",
     "text": [
      "- 2024-11-22 15:43:10,811 build_commit:2026.6.6.13+da66c753 INFO          Input File: C:\\Program Files\\Autodesk\\Revit 2025\\RevitExtractor\\Snowdon Towers Sample Structural.rvt\n",
      "- 2024-11-22 15:43:10,826 build_commit:2026.6.6.13+da66c753 INFO           File Size: 26.65625MB\n",
      "[[extractor-metrics]]:{\"rvt-BuildCommit\":\"2026.6.6.13+da66c753\"}\n",
      "- 2024-11-22 15:43:10,845 build_commit:2026.6.6.13+da66c753 INFO Revit file path: C:\\Program Files\\Autodesk\\Revit 2025\\RevitExtractor\\Snowdon Towers Sample Structural.rvt.\n",
      "- 2024-11-22 15:43:10,856 build_commit:2026.6.6.13+da66c753 INFO         Output Root: c:\\Users\\lucam\\Desktop\\entangl\\output\n",
      "- 2024-11-22 15:43:10,857 build_commit:2026.6.6.13+da66c753 INFO No index.json provided, Please refer \"https://git.autodesk.com/revit/Extractor/blob/master/Template/SimpleInputFileTemplate/index.json\" and \"https://wiki.autodesk.com/pages/viewpage.action?spaceKey=aeceng&title=Revit+Extractor+Application+Input+Arguments\"to write index.json file.\n",
      "- 2024-11-22 15:43:10,858 build_commit:2026.6.6.13+da66c753 INFO Total Time: 00:00:00.2484525\n",
      "[[extractor-metrics]]:{\"rvt-ElapsedTime\":\"248\"}\n",
      "- 2024-11-22 15:43:10,859 build_commit:2026.6.6.13+da66c753 INFO RevitExtractor exit with error code InvalidArgument(-1073741832).\n",
      "\n",
      "Process exited with errors: \n"
     ]
    },
    {
     "ename": "Exception",
     "evalue": "Directory output\\output\\Resource not found",
     "output_type": "error",
     "traceback": [
      "\u001b[1;31m---------------------------------------------------------------------------\u001b[0m",
      "\u001b[1;31mException\u001b[0m                                 Traceback (most recent call last)",
      "Cell \u001b[1;32mIn[12], line 4\u001b[0m\n\u001b[0;32m      1\u001b[0m \u001b[38;5;66;03m# from revit_extract import RevitExtractor\u001b[39;00m\n\u001b[0;32m      2\u001b[0m \u001b[38;5;66;03m# rvt_path = r\"D:\\_WIP\\Download\\Sample Office Building Model V1.rvt\"\u001b[39;00m\n\u001b[0;32m      3\u001b[0m \u001b[38;5;66;03m# RevitExtractor.version = 2025\u001b[39;00m\n\u001b[1;32m----> 4\u001b[0m prodb \u001b[38;5;241m=\u001b[39m \u001b[43mRevitExtractor\u001b[49m\u001b[43m(\u001b[49m\u001b[43mrvt_path\u001b[49m\u001b[43m)\u001b[49m\u001b[38;5;241;43m.\u001b[39;49m\u001b[43mread_prob_data\u001b[49m\u001b[43m(\u001b[49m\u001b[43m)\u001b[49m\n\u001b[0;32m      5\u001b[0m categories \u001b[38;5;241m=\u001b[39m prodb\u001b[38;5;241m.\u001b[39mget_all_categories()\n\u001b[0;32m      6\u001b[0m \u001b[38;5;28;01mfor\u001b[39;00m key \u001b[38;5;129;01min\u001b[39;00m categories:\n",
      "File \u001b[1;32mc:\\Users\\lucam\\Desktop\\entangl\\.venv\\Lib\\site-packages\\revit_extract\\RevitExtractor.py:36\u001b[0m, in \u001b[0;36mRevitExtractor.read_prob_data\u001b[1;34m(self)\u001b[0m\n\u001b[0;32m     31\u001b[0m \u001b[38;5;250m\u001b[39m\u001b[38;5;124;03m\"\"\"\u001b[39;00m\n\u001b[0;32m     32\u001b[0m \u001b[38;5;124;03mRead property data from the extracted SVF file.\u001b[39;00m\n\u001b[0;32m     33\u001b[0m \u001b[38;5;124;03m:return:\u001b[39;00m\n\u001b[0;32m     34\u001b[0m \u001b[38;5;124;03m\"\"\"\u001b[39;00m\n\u001b[0;32m     35\u001b[0m resource_path \u001b[38;5;241m=\u001b[39m \u001b[38;5;28mself\u001b[39m\u001b[38;5;241m.\u001b[39mextract_svf(\u001b[38;5;124m\"\u001b[39m\u001b[38;5;124moutput\u001b[39m\u001b[38;5;124m\"\u001b[39m)\n\u001b[1;32m---> 36\u001b[0m propdb \u001b[38;5;241m=\u001b[39m \u001b[43mprodb\u001b[49m\u001b[38;5;241;43m.\u001b[39;49m\u001b[43mPropDbReaderRevit\u001b[49m\u001b[38;5;241;43m.\u001b[39;49m\u001b[43mread_from_resource\u001b[49m\u001b[43m(\u001b[49m\u001b[43mresource_path\u001b[49m\u001b[43m)\u001b[49m\n\u001b[0;32m     37\u001b[0m \u001b[38;5;28;01mreturn\u001b[39;00m propdb\n",
      "File \u001b[1;32mc:\\Users\\lucam\\Desktop\\entangl\\.venv\\Lib\\site-packages\\aps_toolkit\\PropReader.py:67\u001b[0m, in \u001b[0;36mPropReader.read_from_resource\u001b[1;34m(cls, path)\u001b[0m\n\u001b[0;32m     65\u001b[0m             \u001b[38;5;28;01mbreak\u001b[39;00m\n\u001b[0;32m     66\u001b[0m \u001b[38;5;28;01mif\u001b[39;00m \u001b[38;5;129;01mnot\u001b[39;00m os\u001b[38;5;241m.\u001b[39mpath\u001b[38;5;241m.\u001b[39mexists(parrent_dir):\n\u001b[1;32m---> 67\u001b[0m     \u001b[38;5;28;01mraise\u001b[39;00m \u001b[38;5;167;01mException\u001b[39;00m(\u001b[38;5;124mf\u001b[39m\u001b[38;5;124m\"\u001b[39m\u001b[38;5;124mDirectory \u001b[39m\u001b[38;5;132;01m{\u001b[39;00mparrent_dir\u001b[38;5;132;01m}\u001b[39;00m\u001b[38;5;124m not found\u001b[39m\u001b[38;5;124m\"\u001b[39m)\n\u001b[0;32m     68\u001b[0m \u001b[38;5;28;01mif\u001b[39;00m \u001b[38;5;129;01mnot\u001b[39;00m parrent_dir\u001b[38;5;241m.\u001b[39mendswith(\u001b[38;5;124m\"\u001b[39m\u001b[38;5;124mResource\u001b[39m\u001b[38;5;124m\"\u001b[39m):\n\u001b[0;32m     69\u001b[0m     \u001b[38;5;28;01mraise\u001b[39;00m \u001b[38;5;167;01mException\u001b[39;00m(\u001b[38;5;124mf\u001b[39m\u001b[38;5;124m\"\u001b[39m\u001b[38;5;124mDirectory \u001b[39m\u001b[38;5;132;01m{\u001b[39;00mparrent_dir\u001b[38;5;132;01m}\u001b[39;00m\u001b[38;5;124m is not Resource\u001b[39m\u001b[38;5;124m\"\u001b[39m)\n",
      "\u001b[1;31mException\u001b[0m: Directory output\\output\\Resource not found"
     ]
    }
   ],
   "source": [
    "# from revit_extract import RevitExtractor\n",
    "# rvt_path = r\"D:\\_WIP\\Download\\Sample Office Building Model V1.rvt\"\n",
    "# RevitExtractor.version = 2025\n",
    "prodb = RevitExtractor(rvt_path).read_prob_data()\n",
    "categories = prodb.get_all_categories()\n",
    "for key in categories:\n",
    "    print(key, categories[key])"
   ]
  },
  {
   "cell_type": "code",
   "execution_count": null,
   "metadata": {},
   "outputs": [],
   "source": [
    "# from revit_extract import RevitExtractor\n",
    "# rvt_path = r\"D:\\_WIP\\Download\\Sample Office Building Model V1.rvt\"\n",
    "prodb = RevitExtractor(rvt_path).read_prob_data()\n",
    "categories =[\"Walls\", \"Doors\"]\n",
    "params = [\"Name\", \"Type\", \"Level\"]\n",
    "data_frame = prodb.get_data_by_categories_and_params(categories, params)\n",
    "data_frame.to_excel(\"output.xlsx\", index=False)"
   ]
  }
 ],
 "metadata": {
  "kernelspec": {
   "display_name": ".venv",
   "language": "python",
   "name": "python3"
  },
  "language_info": {
   "codemirror_mode": {
    "name": "ipython",
    "version": 3
   },
   "file_extension": ".py",
   "mimetype": "text/x-python",
   "name": "python",
   "nbconvert_exporter": "python",
   "pygments_lexer": "ipython3",
   "version": "3.12.7"
  }
 },
 "nbformat": 4,
 "nbformat_minor": 2
}
