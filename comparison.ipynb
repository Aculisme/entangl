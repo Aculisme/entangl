{
 "cells": [
  {
   "cell_type": "code",
   "execution_count": null,
   "id": "initial_id",
   "metadata": {
    "collapsed": true
   },
   "outputs": [],
   "source": [
    "import getpass\n",
    "import os\n",
    "\n",
    "os.environ[\"LANGCHAIN_TRACING_V2\"] = \"true\"\n",
    "os.environ[\"LANGCHAIN_API_KEY\"] = getpass.getpass()\n",
    "os.environ[\"OPENAI_API_KEY\"] = getpass.getpass()\n",
    "from langchain_core.globals import set_llm_cache\n",
    "from langchain_openai import ChatOpenAI\n",
    "\n",
    "model = ChatOpenAI(model=\"gpt-4o-mini\")\n",
    "from langchain_core.caches import InMemoryCache\n",
    "\n",
    "set_llm_cache(InMemoryCache())\n",
    "from langchain_core.prompts import ChatPromptTemplate\n",
    "\n"
   ]
  },
  {
   "cell_type": "code",
   "execution_count": null,
   "outputs": [],
   "source": [
    "system_template = \"You are comparing an architectural specification document a building code document, and flagging possible code violations or issues in the specification document. List these issues below, using technical language.\"\n",
    "\n",
    "prompt_template = ChatPromptTemplate.from_messages(\n",
    "    [(\"system\", system_template), (\"user\", \"{json_object}\")]\n",
    ")\n",
    "\n",
    "chain = prompt_template | model\n",
    "import json\n"
   ],
   "metadata": {
    "collapsed": false
   },
   "id": "969f0ece61fb3596"
  },
  {
   "cell_type": "code",
   "execution_count": null,
   "outputs": [],
   "source": [
    "filename = 'arch_rac_example_processed_with_descriptions.json'\n",
    "\n",
    "with open('{}.json'.format(filename), 'r') as file:\n",
    "    data = json.load(file)\n",
    "from pprint import pprint as pp\n",
    "\n",
    "\n"
   ],
   "metadata": {
    "collapsed": false
   },
   "id": "6d79e9f3d8f67e15"
  },
  {
   "cell_type": "markdown",
   "source": [
    "# TODO: Fine-tune an LLM trained on the building code in the given country.\n",
    "\n",
    "### This saves us the need to upload thousands of large building code documents."
   ],
   "metadata": {
    "collapsed": false
   },
   "id": "a9972490d691fa42"
  },
  {
   "cell_type": "code",
   "execution_count": null,
   "outputs": [],
   "source": [],
   "metadata": {
    "collapsed": false
   },
   "id": "943736678d45ea7a"
  }
 ],
 "metadata": {
  "kernelspec": {
   "display_name": "Python 3",
   "language": "python",
   "name": "python3"
  },
  "language_info": {
   "codemirror_mode": {
    "name": "ipython",
    "version": 2
   },
   "file_extension": ".py",
   "mimetype": "text/x-python",
   "name": "python",
   "nbconvert_exporter": "python",
   "pygments_lexer": "ipython2",
   "version": "2.7.6"
  }
 },
 "nbformat": 4,
 "nbformat_minor": 5
}
